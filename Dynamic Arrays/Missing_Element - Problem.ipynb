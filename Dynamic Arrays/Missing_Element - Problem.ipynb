{
 "cells": [
  {
   "cell_type": "code",
   "execution_count": 7,
   "metadata": {},
   "outputs": [],
   "source": [
    "def finder(arr1,arr2):\n",
    "    arr1.sort()\n",
    "    arr2.sort()\n",
    "    \n",
    "    for a1 in arr1:\n",
    "        if a1 not in arr2:\n",
    "            print(\"Missing Element :\",a1)"
   ]
  },
  {
   "cell_type": "code",
   "execution_count": 8,
   "metadata": {},
   "outputs": [
    {
     "name": "stdout",
     "output_type": "stream",
     "text": [
      "Missing Element : 5\n"
     ]
    }
   ],
   "source": [
    "finder([1,2,3,4,5,6,7],[3,7,2,1,4,6])"
   ]
  },
  {
   "cell_type": "code",
   "execution_count": 13,
   "metadata": {},
   "outputs": [],
   "source": [
    "def finder2(arr1,arr2):\n",
    "    arr1.sort()\n",
    "    arr2.sort()\n",
    "    \n",
    "    for num1,num2 in zip(arr1,arr2):\n",
    "        if num1 != num2:\n",
    "            return num1\n",
    "        \n",
    "    return arr1[-1]    "
   ]
  },
  {
   "cell_type": "code",
   "execution_count": 14,
   "metadata": {},
   "outputs": [
    {
     "data": {
      "text/plain": [
       "5"
      ]
     },
     "execution_count": 14,
     "metadata": {},
     "output_type": "execute_result"
    }
   ],
   "source": [
    "finder2([1,2,3,4,5,6,7],[3,7,2,1,4,6])"
   ]
  },
  {
   "cell_type": "code",
   "execution_count": 15,
   "metadata": {},
   "outputs": [],
   "source": [
    "import collections"
   ]
  },
  {
   "cell_type": "code",
   "execution_count": 16,
   "metadata": {},
   "outputs": [],
   "source": [
    "def finder3(arr1,arr2):\n",
    "    d = collections.defaultdict(int)\n",
    "    \n",
    "    for num in arr2:\n",
    "        d[num] += 1\n",
    "        \n",
    "    for num in arr1:\n",
    "        if d[num] == 0:\n",
    "            return num\n",
    "        else:\n",
    "            d[num] -= 1"
   ]
  },
  {
   "cell_type": "code",
   "execution_count": 17,
   "metadata": {},
   "outputs": [
    {
     "data": {
      "text/plain": [
       "5"
      ]
     },
     "execution_count": 17,
     "metadata": {},
     "output_type": "execute_result"
    }
   ],
   "source": [
    "finder3([1,2,3,4,5,6,7],[3,7,2,1,4,6])"
   ]
  },
  {
   "cell_type": "code",
   "execution_count": null,
   "metadata": {},
   "outputs": [],
   "source": []
  }
 ],
 "metadata": {
  "kernelspec": {
   "display_name": "Python 3",
   "language": "python",
   "name": "python3"
  },
  "language_info": {
   "codemirror_mode": {
    "name": "ipython",
    "version": 3
   },
   "file_extension": ".py",
   "mimetype": "text/x-python",
   "name": "python",
   "nbconvert_exporter": "python",
   "pygments_lexer": "ipython3",
   "version": "3.7.3"
  }
 },
 "nbformat": 4,
 "nbformat_minor": 2
}
