{
 "cells": [
  {
   "cell_type": "code",
   "execution_count": 11,
   "metadata": {},
   "outputs": [],
   "source": [
    "def merge_sort(arr):\n",
    "    if len(arr) > 1:\n",
    "        mid = len(arr)/2\n",
    "        lefthalf = arr[:int(mid)]\n",
    "        righthalf = arr[int(mid):]\n",
    "        \n",
    "        merge_sort(lefthalf)\n",
    "        merge_sort(righthalf)\n",
    "        \n",
    "        i = 0\n",
    "        j = 0\n",
    "        k = 0\n",
    "        \n",
    "        while i < len(lefthalf) and j < len(righthalf):\n",
    "            if lefthalf[i] < righthalf[j]:\n",
    "                arr[k] = lefthalf[i]\n",
    "                \n",
    "                i += 1\n",
    "                \n",
    "            else:\n",
    "                arr[k] = righthalf[j]\n",
    "                j += 1\n",
    "                \n",
    "            k += 1\n",
    "            \n",
    "            \n",
    "        while i < len(lefthalf):\n",
    "            arr[k] = lefthalf[i]\n",
    "            i += 1\n",
    "            k += 1\n",
    "            \n",
    "        while j < len(righthalf):\n",
    "            arr[k] = righthalf[j]\n",
    "            j += 1\n",
    "            k += 1\n",
    "    print(\"Merging \",arr)       "
   ]
  },
  {
   "cell_type": "code",
   "execution_count": 12,
   "metadata": {},
   "outputs": [],
   "source": [
    "arr = [11,26,1,7,112,78,8,2,7,22]"
   ]
  },
  {
   "cell_type": "code",
   "execution_count": 13,
   "metadata": {},
   "outputs": [
    {
     "name": "stdout",
     "output_type": "stream",
     "text": [
      "Merging  [11]\n",
      "Merging  [26]\n",
      "Merging  [11, 26]\n",
      "Merging  [1]\n",
      "Merging  [7]\n",
      "Merging  [112]\n",
      "Merging  [7, 112]\n",
      "Merging  [1, 7, 112]\n",
      "Merging  [1, 7, 11, 26, 112]\n",
      "Merging  [78]\n",
      "Merging  [8]\n",
      "Merging  [8, 78]\n",
      "Merging  [2]\n",
      "Merging  [7]\n",
      "Merging  [22]\n",
      "Merging  [7, 22]\n",
      "Merging  [2, 7, 22]\n",
      "Merging  [2, 7, 8, 22, 78]\n",
      "Merging  [1, 2, 7, 7, 8, 11, 22, 26, 78, 112]\n"
     ]
    }
   ],
   "source": [
    "merge_sort(arr)"
   ]
  },
  {
   "cell_type": "code",
   "execution_count": 7,
   "metadata": {},
   "outputs": [
    {
     "data": {
      "text/plain": [
       "[1, 2, 7, 7, 8, 11, 22, 26, 78, 112]"
      ]
     },
     "execution_count": 7,
     "metadata": {},
     "output_type": "execute_result"
    }
   ],
   "source": [
    "arr"
   ]
  },
  {
   "cell_type": "code",
   "execution_count": null,
   "metadata": {},
   "outputs": [],
   "source": []
  }
 ],
 "metadata": {
  "kernelspec": {
   "display_name": "Python 3",
   "language": "python",
   "name": "python3"
  },
  "language_info": {
   "codemirror_mode": {
    "name": "ipython",
    "version": 3
   },
   "file_extension": ".py",
   "mimetype": "text/x-python",
   "name": "python",
   "nbconvert_exporter": "python",
   "pygments_lexer": "ipython3",
   "version": "3.7.3"
  }
 },
 "nbformat": 4,
 "nbformat_minor": 2
}
