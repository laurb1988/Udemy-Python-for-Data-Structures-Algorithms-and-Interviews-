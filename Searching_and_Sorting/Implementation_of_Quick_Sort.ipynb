{
 "cells": [
  {
   "cell_type": "code",
   "execution_count": 8,
   "metadata": {},
   "outputs": [],
   "source": [
    "def quick_sort(arr):\n",
    "    \n",
    "    quick_sort_help(arr,0,len(arr)-1)\n",
    "\n",
    "def quick_sort_help(arr,first,last):\n",
    "    \n",
    "    if first<last:\n",
    "        splitpoint = partition(arr,first,last)\n",
    "        \n",
    "        quick_sort_help(arr,first,splitpoint-1)\n",
    "        quick_sort_help(arr,splitpoint +1, last)\n",
    "\n",
    "def partition(arr,first,last):\n",
    "    pivotvalue = arr[first]\n",
    "    \n",
    "    leftmark = first+1\n",
    "    rightmark = last\n",
    "    \n",
    "    done = False\n",
    "    \n",
    "    while not done:\n",
    "        \n",
    "        while leftmark <= rightmark and arr[leftmark] <= pivotvalue:\n",
    "            leftmark += 1\n",
    "            \n",
    "        while arr[rightmark] >= pivotvalue and rightmark >= leftmark:\n",
    "            rightmark -= 1\n",
    "            \n",
    "        if rightmark < leftmark:\n",
    "            done = True\n",
    "        else:\n",
    "            temp = arr[leftmark]\n",
    "            arr[leftmark] = arr[rightmark]\n",
    "            arr[rightmark] = temp\n",
    "            \n",
    "    temp = arr[first]\n",
    "    arr[first] = arr[rightmark]\n",
    "    arr[rightmark] = temp\n",
    "    \n",
    "    return rightmark"
   ]
  },
  {
   "cell_type": "raw",
   "metadata": {},
   "source": []
  },
  {
   "cell_type": "code",
   "execution_count": 9,
   "metadata": {},
   "outputs": [
    {
     "data": {
      "text/plain": [
       "[1, 5, 7, 8, 10, 12, 20, 22, 25, 66, 67, 77]"
      ]
     },
     "execution_count": 9,
     "metadata": {},
     "output_type": "execute_result"
    }
   ],
   "source": [
    "arr = [67,77,22,66,25,8,1,20,10,12,5,7]\n",
    "quick_sort(arr)\n",
    "arr"
   ]
  },
  {
   "cell_type": "code",
   "execution_count": null,
   "metadata": {},
   "outputs": [],
   "source": []
  }
 ],
 "metadata": {
  "kernelspec": {
   "display_name": "Python 3",
   "language": "python",
   "name": "python3"
  },
  "language_info": {
   "codemirror_mode": {
    "name": "ipython",
    "version": 3
   },
   "file_extension": ".py",
   "mimetype": "text/x-python",
   "name": "python",
   "nbconvert_exporter": "python",
   "pygments_lexer": "ipython3",
   "version": "3.7.3"
  }
 },
 "nbformat": 4,
 "nbformat_minor": 2
}
